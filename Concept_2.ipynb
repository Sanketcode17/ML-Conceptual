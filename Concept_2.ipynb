{
  "cells": [
    {
      "cell_type": "markdown",
      "id": "b36c19be",
      "metadata": {
        "id": "b36c19be"
      },
      "source": [
        "### *SET1*"
      ]
    },
    {
      "cell_type": "markdown",
      "id": "d7129fe2",
      "metadata": {
        "id": "d7129fe2"
      },
      "source": [
        "*# 1.Look at the data given below. Plot the data, find the outliers and find out  μ,σ,σ^2*"
      ]
    },
    {
      "cell_type": "code",
      "execution_count": 3,
      "id": "9e45238d",
      "metadata": {
        "id": "9e45238d"
      },
      "outputs": [],
      "source": [
        "import pandas as pd\n",
        "import numpy as np\n",
        "import matplotlib.pyplot as plt\n",
        "import seaborn as sn\n",
        "from scipy import stats"
      ]
    },
    {
      "cell_type": "code",
      "execution_count": 2,
      "id": "1a41d521",
      "metadata": {
        "id": "1a41d521"
      },
      "outputs": [],
      "source": [
        "X=np.array([24.23,25.53,25.41,24.14,29.62,28.25,25.81,24.39,40.26,32.95,91.36,25.99,39.42,26.71,35.00])"
      ]
    },
    {
      "cell_type": "code",
      "execution_count": 3,
      "id": "2ae4e4e7",
      "metadata": {
        "colab": {
          "base_uri": "https://localhost:8080/"
        },
        "id": "2ae4e4e7",
        "outputId": "2a45f109-e9aa-466c-9b2c-a627884efaaa"
      },
      "outputs": [
        {
          "output_type": "execute_result",
          "data": {
            "text/plain": [
              "array([24.23, 25.53, 25.41, 24.14, 29.62, 28.25, 25.81, 24.39, 40.26,\n",
              "       32.95, 91.36, 25.99, 39.42, 26.71, 35.  ])"
            ]
          },
          "metadata": {},
          "execution_count": 3
        }
      ],
      "source": [
        "X"
      ]
    },
    {
      "cell_type": "code",
      "execution_count": 4,
      "id": "fe97a58e",
      "metadata": {
        "colab": {
          "base_uri": "https://localhost:8080/"
        },
        "id": "fe97a58e",
        "outputId": "e2986446-1ebd-454c-bf40-43bdcf7b3ed4"
      },
      "outputs": [
        {
          "output_type": "execute_result",
          "data": {
            "text/plain": [
              "33.27133333333333"
            ]
          },
          "metadata": {},
          "execution_count": 4
        }
      ],
      "source": [
        "mean=X.mean()\n",
        "mean"
      ]
    },
    {
      "cell_type": "code",
      "execution_count": 5,
      "id": "5da51413",
      "metadata": {
        "colab": {
          "base_uri": "https://localhost:8080/"
        },
        "id": "5da51413",
        "outputId": "e99b6b64-bacc-4858-e2d6-dbcf84a468aa"
      },
      "outputs": [
        {
          "output_type": "execute_result",
          "data": {
            "text/plain": [
              "16.370812590976932"
            ]
          },
          "metadata": {},
          "execution_count": 5
        }
      ],
      "source": [
        "standardeviation = X.std()\n",
        "standardeviation"
      ]
    },
    {
      "cell_type": "code",
      "execution_count": 6,
      "id": "89804c38",
      "metadata": {
        "colab": {
          "base_uri": "https://localhost:8080/"
        },
        "id": "89804c38",
        "outputId": "723e6fa4-5595-46fb-c3b0-f6071866a791"
      },
      "outputs": [
        {
          "output_type": "execute_result",
          "data": {
            "text/plain": [
              "268.00350488888887"
            ]
          },
          "metadata": {},
          "execution_count": 6
        }
      ],
      "source": [
        "variance = standardeviation**2\n",
        "variance"
      ]
    },
    {
      "cell_type": "code",
      "execution_count": 7,
      "id": "78faf5de",
      "metadata": {
        "colab": {
          "base_uri": "https://localhost:8080/",
          "height": 470
        },
        "id": "78faf5de",
        "outputId": "b1864bd7-df33-4193-c606-e2a4a1028365"
      },
      "outputs": [
        {
          "output_type": "execute_result",
          "data": {
            "text/plain": [
              "Text(0, 0.5, 'Measure X')"
            ]
          },
          "metadata": {},
          "execution_count": 7
        },
        {
          "output_type": "display_data",
          "data": {
            "text/plain": [
              "<Figure size 640x480 with 1 Axes>"
            ],
            "image/png": "[encoded data removed]"
          },
          "metadata": {}
        }
      ],
      "source": [
        "plt.boxplot(X,vert=False)\n",
        "plt.title(\"Boxplot\")\n",
        "plt.ylabel(\"Measure X\")"
      ]
    },
    {
      "cell_type": "code",
      "execution_count": 8,
      "id": "0fc3fee6",
      "metadata": {
        "colab": {
          "base_uri": "https://localhost:8080/",
          "height": 503
        },
        "id": "0fc3fee6",
        "outputId": "6f871070-2e50-4039-9713-71fa9cd349ce"
      },
      "outputs": [
        {
          "output_type": "execute_result",
          "data": {
            "text/plain": [
              "(array([10.,  2.,  2.,  0.,  0.,  0.,  0.,  0.,  0.,  1.]),\n",
              " array([24.14 , 30.862, 37.584, 44.306, 51.028, 57.75 , 64.472, 71.194,\n",
              "        77.916, 84.638, 91.36 ]),\n",
              " <BarContainer object of 10 artists>)"
            ]
          },
          "metadata": {},
          "execution_count": 8
        },
        {
          "output_type": "display_data",
          "data": {
            "text/plain": [
              "<Figure size 640x480 with 1 Axes>"
            ],
            "image/png": "[encoded data removed]"
          },
          "metadata": {}
        }
      ],
      "source": [
        "plt.hist(X)"
      ]
    },
    {
      "cell_type": "markdown",
      "id": "69344d94",
      "metadata": {
        "id": "69344d94"
      },
      "source": [
        "*italicized text*# SET2"
      ]
    },
    {
      "cell_type": "markdown",
      "id": "fc4f6a13",
      "metadata": {
        "id": "fc4f6a13"
      },
      "source": [
        "# Topics: Normal distribution, Functions of Random Variables"
      ]
    },
    {
      "cell_type": "markdown",
      "id": "f69abac1",
      "metadata": {
        "id": "f69abac1"
      },
      "source": [
        "** 1.The time required for servicing transmissions is normally distributed with Myu = 45 minutes  and sigma = 8 minutes. The service manager plans to have work begin on the transmission of a customer’s car 10 minutes after the car is dropped off and the customer is told that the car will be ready within 1 hour from drop-off. What is the probability that the service manager cannot meet his commitment? **"
      ]
    },
    {
      "cell_type": "code",
      "execution_count": 9,
      "id": "97224bff",
      "metadata": {
        "id": "97224bff"
      },
      "outputs": [],
      "source": [
        "#Find probability that the u is 50 i.e. greater than the 45."
      ]
    },
    {
      "cell_type": "code",
      "execution_count": 10,
      "id": "a1043107",
      "metadata": {
        "id": "a1043107"
      },
      "outputs": [],
      "source": [
        "from scipy import stats"
      ]
    },
    {
      "cell_type": "code",
      "execution_count": 11,
      "id": "01458c89",
      "metadata": {
        "colab": {
          "base_uri": "https://localhost:8080/"
        },
        "id": "01458c89",
        "outputId": "faca582b-0cca-4e1c-b28c-df578a444015"
      },
      "outputs": [
        {
          "output_type": "execute_result",
          "data": {
            "text/plain": [
              "0.26598552904870054"
            ]
          },
          "metadata": {},
          "execution_count": 11
        }
      ],
      "source": [
        "1-stats.norm.cdf(50,loc=45,scale=8)"
      ]
    },
    {
      "cell_type": "markdown",
      "id": "1d435c2d",
      "metadata": {
        "id": "1d435c2d"
      },
      "source": [
        "** 2.\tThe current age (in years) of 400 clerical employees at an insurance claims processing center is normally distributed with mean = 38 and Standard deviation = 6. For each statement below, please specify True/False. If false, briefly explain why.\n",
        "A.\tMore employees at the processing center are older than 44 than between 38 and 44.\n",
        "B.\tA training program for employees under the age of 30 at the center would be expected to attract about 36 employees.**\n"
      ]
    },
    {
      "cell_type": "code",
      "execution_count": 12,
      "id": "44c80c3c",
      "metadata": {
        "id": "44c80c3c"
      },
      "outputs": [],
      "source": [
        "#n= 400, u=38, sigma =6"
      ]
    },
    {
      "cell_type": "code",
      "execution_count": 78,
      "id": "f1942127",
      "metadata": {
        "colab": {
          "base_uri": "https://localhost:8080/"
        },
        "id": "f1942127",
        "outputId": "5129cc93-28bf-4c70-c8c7-30d73b6aacc2"
      },
      "outputs": [
        {
          "output_type": "execute_result",
          "data": {
            "text/plain": [
              "0.0"
            ]
          },
          "metadata": {},
          "execution_count": 78
        }
      ],
      "source": [
        "#find probability that age>44\n",
        "1-stats.norm.cdf(44,loc=38,scale=6/np.sqrt(400))"
      ]
    },
    {
      "cell_type": "code",
      "execution_count": 14,
      "id": "6586d32c",
      "metadata": {
        "colab": {
          "base_uri": "https://localhost:8080/"
        },
        "id": "6586d32c",
        "outputId": "7fa7dc06-eb30-4202-efc4-22c8ab1f12ce"
      },
      "outputs": [
        {
          "output_type": "execute_result",
          "data": {
            "text/plain": [
              "0.5"
            ]
          },
          "metadata": {},
          "execution_count": 14
        }
      ],
      "source": [
        "#find probability that 38<age<44\n",
        "stats.norm.cdf(44,loc=38,scale=6/np.sqrt(400)) - stats.norm.cdf(38,loc=38,scale=6/np.sqrt(400))"
      ]
    },
    {
      "cell_type": "code",
      "execution_count": 15,
      "id": "a57a14fc",
      "metadata": {
        "id": "a57a14fc"
      },
      "outputs": [],
      "source": [
        "#So statement A is false."
      ]
    },
    {
      "cell_type": "code",
      "execution_count": 16,
      "id": "380aa404",
      "metadata": {
        "colab": {
          "base_uri": "https://localhost:8080/"
        },
        "id": "380aa404",
        "outputId": "20dc5461-06f8-45d0-9c8d-19eb355ff56c"
      },
      "outputs": [
        {
          "output_type": "execute_result",
          "data": {
            "text/plain": [
              "0.09121121972586788"
            ]
          },
          "metadata": {},
          "execution_count": 16
        }
      ],
      "source": [
        "#find probability that age<30\n",
        "stats.norm.cdf(30,loc=38,scale=6)"
      ]
    },
    {
      "cell_type": "code",
      "execution_count": 17,
      "id": "9fb785c4",
      "metadata": {
        "colab": {
          "base_uri": "https://localhost:8080/"
        },
        "id": "9fb785c4",
        "outputId": "fc8976ed-5678-4143-cbaf-874f48156760"
      },
      "outputs": [
        {
          "output_type": "execute_result",
          "data": {
            "text/plain": [
              "36.484487890347154"
            ]
          },
          "metadata": {},
          "execution_count": 17
        }
      ],
      "source": [
        "#Expected count\n",
        "0.09121121972586788*400"
      ]
    },
    {
      "cell_type": "code",
      "execution_count": 18,
      "id": "1544a80d",
      "metadata": {
        "id": "1544a80d"
      },
      "outputs": [],
      "source": [
        "#statement B is True as probability of having age less than 30 is 0.09 and it will attract 36 employees below age 30."
      ]
    },
    {
      "cell_type": "markdown",
      "id": "ef98ef30",
      "metadata": {
        "id": "ef98ef30"
      },
      "source": [
        "**3.\tIf X1 ~ N(μ, σ2) and X2 ~ N(μ, σ2) are iid normal random variables, then what is the difference between 2 X1 and X1 + X2? Discuss both their distributions and parameters. **"
      ]
    },
    {
      "cell_type": "code",
      "execution_count": 79,
      "id": "456dc013",
      "metadata": {
        "id": "456dc013"
      },
      "outputs": [],
      "source": [
        "#Here X1 = X1 and 2X1 is newX1\n",
        "X1= np.array([1,2,3])"
      ]
    },
    {
      "cell_type": "code",
      "execution_count": 80,
      "id": "a62cf64d",
      "metadata": {
        "colab": {
          "base_uri": "https://localhost:8080/"
        },
        "id": "a62cf64d",
        "outputId": "35ce1cbe-b3c3-4f28-fe59-17a37538d24e"
      },
      "outputs": [
        {
          "output_type": "execute_result",
          "data": {
            "text/plain": [
              "2.0"
            ]
          },
          "metadata": {},
          "execution_count": 80
        }
      ],
      "source": [
        "X1.mean()"
      ]
    },
    {
      "cell_type": "code",
      "execution_count": 81,
      "id": "7d9aec6d",
      "metadata": {
        "colab": {
          "base_uri": "https://localhost:8080/"
        },
        "id": "7d9aec6d",
        "outputId": "c44b59b0-6fc4-438e-ff87-58e3d41b1894"
      },
      "outputs": [
        {
          "output_type": "execute_result",
          "data": {
            "text/plain": [
              "0.816496580927726"
            ]
          },
          "metadata": {},
          "execution_count": 81
        }
      ],
      "source": [
        "X1.std()"
      ]
    },
    {
      "cell_type": "code",
      "execution_count": 82,
      "id": "9151dd5d",
      "metadata": {
        "colab": {
          "base_uri": "https://localhost:8080/"
        },
        "id": "9151dd5d",
        "outputId": "b09264b8-a46c-4066-ccda-5959ab011391"
      },
      "outputs": [
        {
          "output_type": "execute_result",
          "data": {
            "text/plain": [
              "0.6666666666666666"
            ]
          },
          "metadata": {},
          "execution_count": 82
        }
      ],
      "source": [
        "X1.std()**2"
      ]
    },
    {
      "cell_type": "code",
      "execution_count": 23,
      "id": "409d04a0",
      "metadata": {
        "id": "409d04a0"
      },
      "outputs": [],
      "source": [
        "newX1=2*X1"
      ]
    },
    {
      "cell_type": "code",
      "execution_count": 24,
      "id": "5e2dfcae",
      "metadata": {
        "colab": {
          "base_uri": "https://localhost:8080/"
        },
        "id": "5e2dfcae",
        "outputId": "c4430e56-bf67-45b8-bbde-bc6daf92aa9e"
      },
      "outputs": [
        {
          "output_type": "execute_result",
          "data": {
            "text/plain": [
              "1.632993161855452"
            ]
          },
          "metadata": {},
          "execution_count": 24
        }
      ],
      "source": [
        "newX1.std()"
      ]
    },
    {
      "cell_type": "code",
      "execution_count": 25,
      "id": "801b5f9a",
      "metadata": {
        "colab": {
          "base_uri": "https://localhost:8080/"
        },
        "id": "801b5f9a",
        "outputId": "a73bfba3-cdfa-4f1b-db53-d1235bc2b723"
      },
      "outputs": [
        {
          "output_type": "execute_result",
          "data": {
            "text/plain": [
              "2.0"
            ]
          },
          "metadata": {},
          "execution_count": 25
        }
      ],
      "source": [
        "newX1.std()/X1.std()"
      ]
    },
    {
      "cell_type": "code",
      "execution_count": 26,
      "id": "24b603cd",
      "metadata": {
        "colab": {
          "base_uri": "https://localhost:8080/"
        },
        "id": "24b603cd",
        "outputId": "a6119c99-a7b1-498b-9f8a-63de977c2a2e"
      },
      "outputs": [
        {
          "output_type": "execute_result",
          "data": {
            "text/plain": [
              "2.0"
            ]
          },
          "metadata": {},
          "execution_count": 26
        }
      ],
      "source": [
        "newX1.mean()/X1.mean()"
      ]
    },
    {
      "cell_type": "code",
      "execution_count": 27,
      "id": "cad0507c",
      "metadata": {
        "colab": {
          "base_uri": "https://localhost:8080/"
        },
        "id": "cad0507c",
        "outputId": "b8299db4-e290-4d59-b7a8-c54c512b4149"
      },
      "outputs": [
        {
          "output_type": "execute_result",
          "data": {
            "text/plain": [
              "4.0"
            ]
          },
          "metadata": {},
          "execution_count": 27
        }
      ],
      "source": [
        "newX1.std()**2/X1.std()**2"
      ]
    },
    {
      "cell_type": "code",
      "execution_count": 85,
      "id": "d7f46a68",
      "metadata": {
        "colab": {
          "base_uri": "https://localhost:8080/",
          "height": 654
        },
        "id": "d7f46a68",
        "outputId": "667fe1bb-405b-41c7-ee88-855af6c84617"
      },
      "outputs": [
        {
          "output_type": "stream",
          "name": "stderr",
          "text": [
            "<ipython-input-85-f0cf6705ab3e>:1: UserWarning: \n",
            "\n",
            "`distplot` is a deprecated function and will be removed in seaborn v0.14.0.\n",
            "\n",
            "Please adapt your code to use either `displot` (a figure-level function with\n",
            "similar flexibility) or `histplot` (an axes-level function for histograms).\n",
            "\n",
            "For a guide to updating your code to use the new functions, please see\n",
            "https://gist.github.com/mwaskom/de44147ed2974457ad6372750bbe5751\n",
            "\n",
            "  sn.distplot(X1)\n"
          ]
        },
        {
          "output_type": "execute_result",
          "data": {
            "text/plain": [
              "<Axes: ylabel='Density'>"
            ]
          },
          "metadata": {},
          "execution_count": 85
        },
        {
          "output_type": "display_data",
          "data": {
            "text/plain": [
              "<Figure size 640x480 with 1 Axes>"
            ],
            "image/png": "[encoded data removed]"
          },
          "metadata": {}
        }
      ],
      "source": [
        "sn.distplot(X1)"
      ]
    },
    {
      "cell_type": "code",
      "execution_count": 30,
      "id": "d7c275fa",
      "metadata": {
        "colab": {
          "base_uri": "https://localhost:8080/",
          "height": 654
        },
        "id": "d7c275fa",
        "outputId": "27fced9f-1e08-4f00-a57e-285e8251c8f3"
      },
      "outputs": [
        {
          "output_type": "stream",
          "name": "stderr",
          "text": [
            "<ipython-input-30-573006c3cfea>:1: UserWarning: \n",
            "\n",
            "`distplot` is a deprecated function and will be removed in seaborn v0.14.0.\n",
            "\n",
            "Please adapt your code to use either `displot` (a figure-level function with\n",
            "similar flexibility) or `histplot` (an axes-level function for histograms).\n",
            "\n",
            "For a guide to updating your code to use the new functions, please see\n",
            "https://gist.github.com/mwaskom/de44147ed2974457ad6372750bbe5751\n",
            "\n",
            "  sn.distplot(newX1)\n"
          ]
        },
        {
          "output_type": "execute_result",
          "data": {
            "text/plain": [
              "<Axes: ylabel='Density'>"
            ]
          },
          "metadata": {},
          "execution_count": 30
        },
        {
          "output_type": "display_data",
          "data": {
            "text/plain": [
              "<Figure size 640x480 with 1 Axes>"
            ],
            "image/png": "[encoded data removed]"
          },
          "metadata": {}
        }
      ],
      "source": [
        "sn.distplot(newX1)"
      ]
    },
    {
      "cell_type": "code",
      "execution_count": 31,
      "id": "e8847c5c",
      "metadata": {
        "id": "e8847c5c"
      },
      "outputs": [],
      "source": [
        "#here X2 = X2 and X1+X2 is newX2\n",
        "X2= np.array([1,2,3])"
      ]
    },
    {
      "cell_type": "code",
      "execution_count": 32,
      "id": "f2fc12e3",
      "metadata": {
        "colab": {
          "base_uri": "https://localhost:8080/"
        },
        "id": "f2fc12e3",
        "outputId": "11854888-82de-4b57-a45e-7a92b387e3ee"
      },
      "outputs": [
        {
          "output_type": "execute_result",
          "data": {
            "text/plain": [
              "2.0"
            ]
          },
          "metadata": {},
          "execution_count": 32
        }
      ],
      "source": [
        "X2.mean()"
      ]
    },
    {
      "cell_type": "code",
      "execution_count": 33,
      "id": "240e9e1d",
      "metadata": {
        "colab": {
          "base_uri": "https://localhost:8080/"
        },
        "id": "240e9e1d",
        "outputId": "dd3d1c7f-7573-4b77-87ff-ed1d9ceb9eaa"
      },
      "outputs": [
        {
          "output_type": "execute_result",
          "data": {
            "text/plain": [
              "0.816496580927726"
            ]
          },
          "metadata": {},
          "execution_count": 33
        }
      ],
      "source": [
        "X2.std()"
      ]
    },
    {
      "cell_type": "code",
      "execution_count": 34,
      "id": "6ffee10e",
      "metadata": {
        "colab": {
          "base_uri": "https://localhost:8080/"
        },
        "id": "6ffee10e",
        "outputId": "b6b8956c-7f9e-4b1b-b1bd-34dd7b89b391"
      },
      "outputs": [
        {
          "output_type": "execute_result",
          "data": {
            "text/plain": [
              "0.6666666666666666"
            ]
          },
          "metadata": {},
          "execution_count": 34
        }
      ],
      "source": [
        "X2.std()**2"
      ]
    },
    {
      "cell_type": "code",
      "execution_count": 35,
      "id": "bbbccec2",
      "metadata": {
        "id": "bbbccec2"
      },
      "outputs": [],
      "source": [
        "newX2 = X1+X2"
      ]
    },
    {
      "cell_type": "code",
      "execution_count": 36,
      "id": "264a965a",
      "metadata": {
        "colab": {
          "base_uri": "https://localhost:8080/"
        },
        "id": "264a965a",
        "outputId": "bd8eb971-94c4-4301-84a2-e25735b6bf44"
      },
      "outputs": [
        {
          "output_type": "execute_result",
          "data": {
            "text/plain": [
              "4.0"
            ]
          },
          "metadata": {},
          "execution_count": 36
        }
      ],
      "source": [
        "newX2.mean()"
      ]
    },
    {
      "cell_type": "code",
      "execution_count": 37,
      "id": "ec649191",
      "metadata": {
        "colab": {
          "base_uri": "https://localhost:8080/"
        },
        "id": "ec649191",
        "outputId": "b35f6dcc-a1ca-4561-bdf0-1c95746cb849"
      },
      "outputs": [
        {
          "output_type": "execute_result",
          "data": {
            "text/plain": [
              "1.632993161855452"
            ]
          },
          "metadata": {},
          "execution_count": 37
        }
      ],
      "source": [
        "newX2.std()"
      ]
    },
    {
      "cell_type": "code",
      "execution_count": 38,
      "id": "e18a55cf",
      "metadata": {
        "colab": {
          "base_uri": "https://localhost:8080/"
        },
        "id": "e18a55cf",
        "outputId": "bc87ea55-936b-4748-8e43-a37e277fcd55"
      },
      "outputs": [
        {
          "output_type": "execute_result",
          "data": {
            "text/plain": [
              "2.6666666666666665"
            ]
          },
          "metadata": {},
          "execution_count": 38
        }
      ],
      "source": [
        "newX2.std()**2"
      ]
    },
    {
      "cell_type": "code",
      "execution_count": 39,
      "id": "3a311323",
      "metadata": {
        "colab": {
          "base_uri": "https://localhost:8080/"
        },
        "id": "3a311323",
        "outputId": "5e7f38db-fa8b-4bb7-e250-c74fe65d6a95"
      },
      "outputs": [
        {
          "output_type": "execute_result",
          "data": {
            "text/plain": [
              "2.0"
            ]
          },
          "metadata": {},
          "execution_count": 39
        }
      ],
      "source": [
        "newX2.mean()/X2.mean()"
      ]
    },
    {
      "cell_type": "code",
      "execution_count": 40,
      "id": "9c348ab8",
      "metadata": {
        "colab": {
          "base_uri": "https://localhost:8080/"
        },
        "id": "9c348ab8",
        "outputId": "7652c858-2810-4aae-ae5d-6e1684de4447"
      },
      "outputs": [
        {
          "output_type": "execute_result",
          "data": {
            "text/plain": [
              "4.0"
            ]
          },
          "metadata": {},
          "execution_count": 40
        }
      ],
      "source": [
        "newX2.std()**2/X2.std()**2"
      ]
    },
    {
      "cell_type": "code",
      "execution_count": 41,
      "id": "16b3815a",
      "metadata": {
        "colab": {
          "base_uri": "https://localhost:8080/",
          "height": 654
        },
        "id": "16b3815a",
        "outputId": "a66757ad-cb83-45aa-ea19-a18f19fc9493"
      },
      "outputs": [
        {
          "output_type": "stream",
          "name": "stderr",
          "text": [
            "<ipython-input-41-8b84d5e91605>:1: UserWarning: \n",
            "\n",
            "`distplot` is a deprecated function and will be removed in seaborn v0.14.0.\n",
            "\n",
            "Please adapt your code to use either `displot` (a figure-level function with\n",
            "similar flexibility) or `histplot` (an axes-level function for histograms).\n",
            "\n",
            "For a guide to updating your code to use the new functions, please see\n",
            "https://gist.github.com/mwaskom/de44147ed2974457ad6372750bbe5751\n",
            "\n",
            "  sn.distplot(X2)\n"
          ]
        },
        {
          "output_type": "execute_result",
          "data": {
            "text/plain": [
              "<Axes: ylabel='Density'>"
            ]
          },
          "metadata": {},
          "execution_count": 41
        },
        {
          "output_type": "display_data",
          "data": {
            "text/plain": [
              "<Figure size 640x480 with 1 Axes>"
            ],
            "image/png": "[encoded data removed]"
          },
          "metadata": {}
        }
      ],
      "source": [
        "sn.distplot(X2)"
      ]
    },
    {
      "cell_type": "code",
      "execution_count": 42,
      "id": "79090421",
      "metadata": {
        "colab": {
          "base_uri": "https://localhost:8080/",
          "height": 654
        },
        "id": "79090421",
        "outputId": "79e0d4bc-a309-4609-df59-5b02f8d31da2"
      },
      "outputs": [
        {
          "output_type": "stream",
          "name": "stderr",
          "text": [
            "<ipython-input-42-cdb83a937389>:1: UserWarning: \n",
            "\n",
            "`distplot` is a deprecated function and will be removed in seaborn v0.14.0.\n",
            "\n",
            "Please adapt your code to use either `displot` (a figure-level function with\n",
            "similar flexibility) or `histplot` (an axes-level function for histograms).\n",
            "\n",
            "For a guide to updating your code to use the new functions, please see\n",
            "https://gist.github.com/mwaskom/de44147ed2974457ad6372750bbe5751\n",
            "\n",
            "  sn.distplot(newX2)\n"
          ]
        },
        {
          "output_type": "execute_result",
          "data": {
            "text/plain": [
              "<Axes: ylabel='Density'>"
            ]
          },
          "metadata": {},
          "execution_count": 42
        },
        {
          "output_type": "display_data",
          "data": {
            "text/plain": [
              "<Figure size 640x480 with 1 Axes>"
            ],
            "image/png": "[encoded data removed]"
          },
          "metadata": {}
        }
      ],
      "source": [
        "sn.distplot(newX2)"
      ]
    },
    {
      "cell_type": "markdown",
      "id": "b5599888",
      "metadata": {
        "id": "b5599888"
      },
      "source": [
        "** 4.\tLet X ~ N(100, 20sq). Find two values, a and b, symmetric about the mean, such that the probability of the random variable taking a value between them is 0.99. **"
      ]
    },
    {
      "cell_type": "code",
      "execution_count": 43,
      "id": "77cfc79b",
      "metadata": {
        "colab": {
          "base_uri": "https://localhost:8080/"
        },
        "id": "77cfc79b",
        "outputId": "faf494fe-cea8-4ab4-ad1a-6a3e630cd018"
      },
      "outputs": [
        {
          "output_type": "execute_result",
          "data": {
            "text/plain": [
              "(48.48341392902199, 151.516586070978)"
            ]
          },
          "metadata": {},
          "execution_count": 43
        }
      ],
      "source": [
        "stats.norm.interval(0.99,loc=100,scale=20)"
      ]
    },
    {
      "cell_type": "code",
      "execution_count": 44,
      "id": "f8edf20c",
      "metadata": {
        "colab": {
          "base_uri": "https://localhost:8080/"
        },
        "id": "f8edf20c",
        "outputId": "5e769c41-714c-4197-cf99-4c8d44a54cdd"
      },
      "outputs": [
        {
          "output_type": "execute_result",
          "data": {
            "text/plain": [
              "0.2986095735052065"
            ]
          },
          "metadata": {},
          "execution_count": 44
        }
      ],
      "source": [
        "stats.norm.cdf(105.9,loc=100,scale=20) -stats.norm.cdf(90.5,scale=20,loc=100)"
      ]
    },
    {
      "cell_type": "code",
      "execution_count": 45,
      "id": "9d7a9844",
      "metadata": {
        "colab": {
          "base_uri": "https://localhost:8080/"
        },
        "id": "9d7a9844",
        "outputId": "2ec92c6c-ff34-44cb-f7fc-b167295379bb"
      },
      "outputs": [
        {
          "output_type": "execute_result",
          "data": {
            "text/plain": [
              "0.6778258809783382"
            ]
          },
          "metadata": {},
          "execution_count": 45
        }
      ],
      "source": [
        "stats.norm.cdf(119.8,scale=20,loc=100) -stats.norm.cdf(80.2,scale=20,loc=100)"
      ]
    },
    {
      "cell_type": "code",
      "execution_count": 46,
      "id": "b4de0b20",
      "metadata": {
        "colab": {
          "base_uri": "https://localhost:8080/"
        },
        "id": "b4de0b20",
        "outputId": "3d38554a-b694-421e-9fcd-979cb0f082f9"
      },
      "outputs": [
        {
          "output_type": "execute_result",
          "data": {
            "text/plain": [
              "0.13561796460236508"
            ]
          },
          "metadata": {},
          "execution_count": 46
        }
      ],
      "source": [
        "stats.norm.cdf(78,scale=20,loc=100) -stats.norm.cdf(22,scale=20,loc=100)"
      ]
    },
    {
      "cell_type": "code",
      "execution_count": 47,
      "id": "0cf0682c",
      "metadata": {
        "colab": {
          "base_uri": "https://localhost:8080/"
        },
        "id": "0cf0682c",
        "outputId": "cb327041-85fa-4d7f-e254-356f4464f389"
      },
      "outputs": [
        {
          "output_type": "execute_result",
          "data": {
            "text/plain": [
              "0.9899759913364774"
            ]
          },
          "metadata": {},
          "execution_count": 47
        }
      ],
      "source": [
        "stats.norm.cdf(151.5,scale=20,loc=100) -stats.norm.cdf(48.5,scale=20,loc=100)"
      ]
    },
    {
      "cell_type": "code",
      "execution_count": 48,
      "id": "47d88c1d",
      "metadata": {
        "colab": {
          "base_uri": "https://localhost:8080/"
        },
        "id": "47d88c1d",
        "outputId": "c9d6e338-b5da-4336-e1f1-90e918b77af6"
      },
      "outputs": [
        {
          "output_type": "execute_result",
          "data": {
            "text/plain": [
              "0.37939987949102466"
            ]
          },
          "metadata": {},
          "execution_count": 48
        }
      ],
      "source": [
        "stats.norm.cdf(109.9,scale=20,loc=100) -stats.norm.cdf(90.1,scale=20,loc=100)"
      ]
    },
    {
      "cell_type": "code",
      "execution_count": 49,
      "id": "fac3b690",
      "metadata": {
        "id": "fac3b690"
      },
      "outputs": [],
      "source": [
        "# Answer is D. i.e. value of a is 48.5 and b is 151.5"
      ]
    },
    {
      "cell_type": "markdown",
      "id": "80967f3d",
      "metadata": {
        "id": "80967f3d"
      },
      "source": [
        "** 5.\tConsider a company that has two different divisions. The annual profits from the two divisions are independent and have distributions Profit1 ~ N(5, 3sq) and Profit2 ~ N(7, 4sq) respectively. Both the profits are in dollar Million. Answer the following questions about the total profit of the company in Rupees. Assume that dollar1 = Rs. 45. A.\tSpecify a Rupee range (centered on the mean) such that it contains 95% probability for the annual profit of the company.B.\tSpecify the 5th percentile of profit (in Rupees) for the companyC.\tWhich of the two divisions has a larger probability of making a loss in a given year?**\n",
        "\n"
      ]
    },
    {
      "cell_type": "code",
      "execution_count": 50,
      "id": "64508c75",
      "metadata": {
        "colab": {
          "base_uri": "https://localhost:8080/"
        },
        "id": "64508c75",
        "outputId": "7e27e9cc-6d57-4bab-8455-5663c8bb5358"
      },
      "outputs": [
        {
          "output_type": "execute_result",
          "data": {
            "text/plain": [
              "5.0"
            ]
          },
          "metadata": {},
          "execution_count": 50
        }
      ],
      "source": [
        "var= ((9+16)**0.5)\n",
        "var"
      ]
    },
    {
      "cell_type": "code",
      "execution_count": 51,
      "id": "e8f9fbd8",
      "metadata": {
        "colab": {
          "base_uri": "https://localhost:8080/"
        },
        "id": "e8f9fbd8",
        "outputId": "78f2f089-a53e-456c-a112-2f81b5715e8a"
      },
      "outputs": [
        {
          "output_type": "execute_result",
          "data": {
            "text/plain": [
              "(99.00810347848784, 980.9918965215122)"
            ]
          },
          "metadata": {},
          "execution_count": 51
        }
      ],
      "source": [
        "#mean = 5+7=12 and standard deviation = (9+16)^0.5 =5\n",
        "stats.norm.interval(0.95,loc=12*45,scale=5*45)"
      ]
    },
    {
      "cell_type": "code",
      "execution_count": 52,
      "id": "22766436",
      "metadata": {
        "colab": {
          "base_uri": "https://localhost:8080/"
        },
        "id": "22766436",
        "outputId": "8604c9c5-0ce4-4ac4-c571-84effe1d183c"
      },
      "outputs": [
        {
          "output_type": "execute_result",
          "data": {
            "text/plain": [
              "(-2.5758293035489004, 2.5758293035489004)"
            ]
          },
          "metadata": {},
          "execution_count": 52
        }
      ],
      "source": [
        "#mean = 5+7=12 and standard deviation = (9+16)^0.5 =5\n",
        "stats.norm.interval(0.99)"
      ]
    },
    {
      "cell_type": "code",
      "execution_count": 53,
      "id": "bac8fd4f",
      "metadata": {
        "colab": {
          "base_uri": "https://localhost:8080/"
        },
        "id": "bac8fd4f",
        "outputId": "d340f868-5379-4bb8-8fbf-a664565f2b85"
      },
      "outputs": [
        {
          "output_type": "execute_result",
          "data": {
            "text/plain": [
              "0.0477903522728147"
            ]
          },
          "metadata": {},
          "execution_count": 53
        }
      ],
      "source": [
        "#loss means value less than 0, so for division 1, loss is probability (u<0)\n",
        "stats.norm.cdf(0,loc=5*45*1000000,scale=3*45*1000000)"
      ]
    },
    {
      "cell_type": "code",
      "execution_count": 54,
      "id": "930b4004",
      "metadata": {
        "colab": {
          "base_uri": "https://localhost:8080/"
        },
        "id": "930b4004",
        "outputId": "ac888e95-579d-4be8-83e4-6f0b65bbf348"
      },
      "outputs": [
        {
          "output_type": "execute_result",
          "data": {
            "text/plain": [
              "0.040059156863817086"
            ]
          },
          "metadata": {},
          "execution_count": 54
        }
      ],
      "source": [
        "# loss means value less than 0, so for division 2, loss is probability (u<0)\n",
        "stats.norm.cdf(0,loc=7*45*1000000,scale=4*45*1000000)"
      ]
    },
    {
      "cell_type": "code",
      "execution_count": 55,
      "id": "5ed2736e",
      "metadata": {
        "id": "5ed2736e"
      },
      "outputs": [],
      "source": [
        "# so probability of making loss is greater for the division 1"
      ]
    },
    {
      "cell_type": "markdown",
      "id": "1e19c709",
      "metadata": {
        "id": "1e19c709"
      },
      "source": [
        "**Set 3**"
      ]
    },
    {
      "cell_type": "markdown",
      "id": "e3fc3fb0",
      "metadata": {
        "id": "e3fc3fb0"
      },
      "source": [
        "**4.What are the chances that  Xbar >u ?**"
      ]
    },
    {
      "cell_type": "code",
      "execution_count": 56,
      "id": "589d7388",
      "metadata": {
        "colab": {
          "base_uri": "https://localhost:8080/"
        },
        "id": "589d7388",
        "outputId": "f5683943-d5b4-4c67-acb2-7017b82d3281"
      },
      "outputs": [
        {
          "output_type": "execute_result",
          "data": {
            "text/plain": [
              "0.5"
            ]
          },
          "metadata": {},
          "execution_count": 56
        }
      ],
      "source": [
        "# this is P(Z>0)\n",
        "from scipy import stats\n",
        "stats.norm.cdf(0)"
      ]
    },
    {
      "cell_type": "code",
      "execution_count": 57,
      "id": "fab1b951",
      "metadata": {
        "id": "fab1b951"
      },
      "outputs": [],
      "source": [
        "#so chances are 1/2"
      ]
    },
    {
      "cell_type": "markdown",
      "id": "9eaada24",
      "metadata": {
        "id": "9eaada24"
      },
      "source": [
        "**5.\tIn January 2005, a company that monitors Internet traffic (WebSideStory) reported that its sampling revealed that the Mozilla Firefox browser launched in 2004 had grabbed a 4.6% share of the market. I.\tIf the sample were based on 2,000 users, could Microsoft conclude that Mozilla has a less than 5% share of the market? II.\tWebSideStory claims that its sample includes all the daily Internet users. If that’s the case, then can Microsoft conclude that Mozilla has a less than 5% share of the market?**"
      ]
    },
    {
      "cell_type": "code",
      "execution_count": 5,
      "id": "a09acb08",
      "metadata": {
        "colab": {
          "base_uri": "https://localhost:8080/"
        },
        "id": "a09acb08",
        "outputId": "2032f2e8-babe-4dbb-cad4-44ff960b6194"
      },
      "outputs": [
        {
          "output_type": "execute_result",
          "data": {
            "text/plain": [
              "0.6554003727810325"
            ]
          },
          "metadata": {},
          "execution_count": 5
        }
      ],
      "source": [
        "#here u= 4.6 in first we have to find that P(Z<5) n=2000 and assume sigma=1 (it follows t distribution)\n",
        "stats.t.cdf(5,1999,loc=4.6)"
      ]
    },
    {
      "cell_type": "code",
      "execution_count": 59,
      "id": "33276648",
      "metadata": {
        "id": "33276648"
      },
      "outputs": [],
      "source": [
        "# so P(Z<5) is 65.54% so we can say that microsoft can conclude that mozilla has less than 5% share of market"
      ]
    },
    {
      "cell_type": "code",
      "execution_count": 60,
      "id": "86b6e52e",
      "metadata": {
        "colab": {
          "base_uri": "https://localhost:8080/"
        },
        "id": "86b6e52e",
        "outputId": "c14f88eb-5373-4231-d1c2-a49f504cfd41"
      },
      "outputs": [
        {
          "output_type": "execute_result",
          "data": {
            "text/plain": [
              "0.6554217416103243"
            ]
          },
          "metadata": {},
          "execution_count": 60
        }
      ],
      "source": [
        "#here u= 4.6 in second we have to find that P(Z<5) and assume sigma=1 (It follows normal distribution)\n",
        "stats.norm.cdf(5,loc=4.6)"
      ]
    },
    {
      "cell_type": "code",
      "execution_count": 61,
      "id": "68b5a9fb",
      "metadata": {
        "id": "68b5a9fb"
      },
      "outputs": [],
      "source": [
        "# so P(Z<5) is 65.54% so we can say that microsoft can conclude that mozilla has less than 5% share of market"
      ]
    },
    {
      "cell_type": "markdown",
      "id": "b924f0ca",
      "metadata": {
        "id": "b924f0ca"
      },
      "source": [
        "**7.\tWhich is shorter: a 95% z-interval or a 95% t-interval for μ if we know that σ =s?**"
      ]
    },
    {
      "cell_type": "code",
      "execution_count": 62,
      "id": "9460be77",
      "metadata": {
        "colab": {
          "base_uri": "https://localhost:8080/"
        },
        "id": "9460be77",
        "outputId": "21e330da-a081-4558-bc96-0a144a2ee5e4"
      },
      "outputs": [
        {
          "output_type": "execute_result",
          "data": {
            "text/plain": [
              "(-1.959963984540054, 1.959963984540054)"
            ]
          },
          "metadata": {},
          "execution_count": 62
        }
      ],
      "source": [
        "stats.norm.interval(0.95)"
      ]
    },
    {
      "cell_type": "code",
      "execution_count": 63,
      "id": "349600ab",
      "metadata": {
        "colab": {
          "base_uri": "https://localhost:8080/"
        },
        "id": "349600ab",
        "outputId": "95dd7b82-9ec3-49e4-b570-4f09002ce8af"
      },
      "outputs": [
        {
          "output_type": "execute_result",
          "data": {
            "text/plain": [
              "(-2.2281388519649385, 2.2281388519649385)"
            ]
          },
          "metadata": {},
          "execution_count": 63
        }
      ],
      "source": [
        "stats.t.interval(0.95,10)"
      ]
    },
    {
      "cell_type": "code",
      "execution_count": 64,
      "id": "188b29a4",
      "metadata": {
        "id": "188b29a4"
      },
      "outputs": [],
      "source": [
        "#the z interval is shorter if we have samples less than 30 and interval start increasing and becomes equal for both the distributions for the larger samples."
      ]
    },
    {
      "cell_type": "markdown",
      "id": "7bbd69ee",
      "metadata": {
        "id": "7bbd69ee"
      },
      "source": [
        "**8.\tHow many randomly selected employers (minimum number) must we contact in order to guarantee a margin of error of no more than 4% (at 95% confidence)?**"
      ]
    },
    {
      "cell_type": "code",
      "execution_count": 65,
      "id": "7fdbe851",
      "metadata": {
        "colab": {
          "base_uri": "https://localhost:8080/"
        },
        "id": "7fdbe851",
        "outputId": "b7abae18-6541-478f-9a4a-83fc568e2d8d"
      },
      "outputs": [
        {
          "output_type": "execute_result",
          "data": {
            "text/plain": [
              "(-1.959963984540054, 1.959963984540054)"
            ]
          },
          "metadata": {},
          "execution_count": 65
        }
      ],
      "source": [
        "stats.norm.interval(0.95)"
      ]
    },
    {
      "cell_type": "code",
      "execution_count": 66,
      "id": "bed8be20",
      "metadata": {
        "colab": {
          "base_uri": "https://localhost:8080/"
        },
        "id": "bed8be20",
        "outputId": "f2f34e17-1c21-44b0-db66-845dc302e2d2"
      },
      "outputs": [
        {
          "output_type": "execute_result",
          "data": {
            "text/plain": [
              "(-2.3263478740408408, 2.3263478740408408)"
            ]
          },
          "metadata": {},
          "execution_count": 66
        }
      ],
      "source": [
        "stats.norm.interval(0.98)"
      ]
    },
    {
      "cell_type": "markdown",
      "id": "0b038736",
      "metadata": {
        "id": "0b038736"
      },
      "source": [
        " **SET 4**"
      ]
    },
    {
      "cell_type": "markdown",
      "id": "63355ef1",
      "metadata": {
        "id": "63355ef1"
      },
      "source": [
        "**3.\tAuditors at a small community bank randomly sample 100 withdrawal transactions made during the week at an ATM machine located near the bank’s main branch. Over the past 2 years, the average withdrawal amount has been DOLLAR 50 with a standard deviation of DOLLAR 40. Since audit investigations are typically expensive, the auditors decide to not initiate further investigations if the mean transaction amount of the sample is between DOLLAR 45 and DOLLAR 55. What is the probability that in any given week, there will be an investigation?**"
      ]
    },
    {
      "cell_type": "code",
      "execution_count": 67,
      "id": "e48a6be9",
      "metadata": {
        "colab": {
          "base_uri": "https://localhost:8080/"
        },
        "id": "e48a6be9",
        "outputId": "ed44ae55-fdbf-41d2-e26e-88edea861bf0"
      },
      "outputs": [
        {
          "output_type": "execute_result",
          "data": {
            "text/plain": [
              "0.2112995473337107"
            ]
          },
          "metadata": {},
          "execution_count": 67
        }
      ],
      "source": [
        "#here n=100, u=50, sigma= 40 here we have to find 1-P(45<u<55)\n",
        "1-(stats.norm.cdf(55,loc=50,scale=40/100**0.5)-stats.norm.cdf(45,loc=50,scale=40/100**0.5))"
      ]
    },
    {
      "cell_type": "code",
      "execution_count": 68,
      "id": "743763a1",
      "metadata": {
        "colab": {
          "base_uri": "https://localhost:8080/"
        },
        "id": "743763a1",
        "outputId": "3164e245-bb2c-4489-f79b-a8702d11bd0d"
      },
      "outputs": [
        {
          "output_type": "execute_result",
          "data": {
            "text/plain": [
              "0.2142463375683865"
            ]
          },
          "metadata": {},
          "execution_count": 68
        }
      ],
      "source": [
        "#we have to find u less than 45 and u greater than 55\n",
        "1-stats.t.cdf(55,99,loc=50,scale=40/100**0.5)+stats.t.cdf(45,99,loc=50,scale=40/100**0.5)"
      ]
    },
    {
      "cell_type": "code",
      "execution_count": 69,
      "id": "ab6a5027",
      "metadata": {
        "id": "ab6a5027"
      },
      "outputs": [],
      "source": [
        "# so there is 21.42% probability that there will be investigation in any given week"
      ]
    },
    {
      "cell_type": "markdown",
      "id": "0e90280e",
      "metadata": {
        "id": "0e90280e"
      },
      "source": [
        "**4.\tThe auditors from the above example would like to maintain the probability of investigation to 5%. Which of the following represents the minimum number transactions that they should sample if they do not want to change the thresholds of 45 and 55? Assume that the sample statistics remain unchanged.**"
      ]
    },
    {
      "cell_type": "code",
      "execution_count": 70,
      "id": "235efd70",
      "metadata": {
        "colab": {
          "base_uri": "https://localhost:8080/"
        },
        "id": "235efd70",
        "outputId": "5c2f5a4c-4a66-4e79-bbe5-2dcdfb61d6f2"
      },
      "outputs": [
        {
          "output_type": "execute_result",
          "data": {
            "text/plain": [
              "(42.16014406183979, 57.83985593816021)"
            ]
          },
          "metadata": {},
          "execution_count": 70
        }
      ],
      "source": [
        "stats.norm.interval(0.95,loc=50,scale=40/100**0.5)"
      ]
    },
    {
      "cell_type": "code",
      "execution_count": 71,
      "id": "7bd7648e",
      "metadata": {
        "colab": {
          "base_uri": "https://localhost:8080/"
        },
        "id": "7bd7648e",
        "outputId": "a3324ad5-f00b-4c26-b24d-4970ba1f7624"
      },
      "outputs": [
        {
          "output_type": "execute_result",
          "data": {
            "text/plain": [
              "(43.411026006941775, 56.588973993058225)"
            ]
          },
          "metadata": {},
          "execution_count": 71
        }
      ],
      "source": [
        "stats.t.interval(0.95,143,loc=50,scale=40/144**0.5)"
      ]
    },
    {
      "cell_type": "code",
      "execution_count": 72,
      "id": "e1faffe5",
      "metadata": {
        "colab": {
          "base_uri": "https://localhost:8080/"
        },
        "id": "e1faffe5",
        "outputId": "d62590fd-7ac4-4f22-f8d3-d43b5d62c9d2"
      },
      "outputs": [
        {
          "output_type": "execute_result",
          "data": {
            "text/plain": [
              "(43.54636798622735, 56.45363201377265)"
            ]
          },
          "metadata": {},
          "execution_count": 72
        }
      ],
      "source": [
        "stats.t.interval(0.95,149,loc=50,scale=40/150**0.5)"
      ]
    },
    {
      "cell_type": "code",
      "execution_count": 73,
      "id": "a9043ade",
      "metadata": {
        "colab": {
          "base_uri": "https://localhost:8080/"
        },
        "id": "a9043ade",
        "outputId": "a8f56578-f21e-4df9-e427-e5da859bc263"
      },
      "outputs": [
        {
          "output_type": "execute_result",
          "data": {
            "text/plain": [
              "(44.36513128209762, 55.63486871790238)"
            ]
          },
          "metadata": {},
          "execution_count": 73
        }
      ],
      "source": [
        "stats.t.interval(0.95,195,loc=50,scale=40/196**0.5)"
      ]
    },
    {
      "cell_type": "code",
      "execution_count": 74,
      "id": "d3b3a72b",
      "metadata": {
        "colab": {
          "base_uri": "https://localhost:8080/"
        },
        "id": "d3b3a72b",
        "outputId": "dafb1a94-e7f2-4b88-e18f-5e6407bac8f3"
      },
      "outputs": [
        {
          "output_type": "execute_result",
          "data": {
            "text/plain": [
              "(45.01742205006828, 54.98257794993172)"
            ]
          },
          "metadata": {},
          "execution_count": 74
        }
      ],
      "source": [
        "stats.t.interval(0.95,249,loc=50,scale=40/250**0.5)"
      ]
    },
    {
      "cell_type": "code",
      "execution_count": 75,
      "id": "40c17c92",
      "metadata": {
        "id": "40c17c92"
      },
      "outputs": [],
      "source": [
        "# So minimum number of transaction needed are 250 as it will ensure that there is 95% probability that u lies in range of 45 to 55 or 5% chance of investigation"
      ]
    },
    {
      "cell_type": "code",
      "execution_count": 76,
      "id": "aa5da0ad",
      "metadata": {
        "colab": {
          "base_uri": "https://localhost:8080/"
        },
        "id": "aa5da0ad",
        "outputId": "6c0b563d-8e4b-419b-e6bc-0bf0b4dce5ab"
      },
      "outputs": [
        {
          "output_type": "execute_result",
          "data": {
            "text/plain": [
              "0.9507896016013059"
            ]
          },
          "metadata": {},
          "execution_count": 76
        }
      ],
      "source": [
        "stats.t.cdf(55,249,loc=50,scale=40/250**0.5)-stats.t.cdf(45,249,loc=50,scale=40/250**0.5)"
      ]
    },
    {
      "cell_type": "code",
      "execution_count": 76,
      "id": "7189c228",
      "metadata": {
        "id": "7189c228"
      },
      "outputs": [],
      "source": []
    }
  ],
  "metadata": {
    "kernelspec": {
      "display_name": "Python 3 (ipykernel)",
      "language": "python",
      "name": "python3"
    },
    "language_info": {
      "codemirror_mode": {
        "name": "ipython",
        "version": 3
      },
      "file_extension": ".py",
      "mimetype": "text/x-python",
      "name": "python",
      "nbconvert_exporter": "python",
      "pygments_lexer": "ipython3",
      "version": "3.9.7"
    },
    "colab": {
      "provenance": []
    }
  },
  "nbformat": 4,
  "nbformat_minor": 5
}